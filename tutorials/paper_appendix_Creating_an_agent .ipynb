{
 "cells": [
  {
   "cell_type": "markdown",
   "metadata": {},
   "source": [
    "This brief tutorial shows how to create a custom agent with a simple example.\n",
    "\n",
    "First tomsup is imported:"
   ]
  },
  {
   "cell_type": "code",
   "execution_count": 7,
   "metadata": {},
   "outputs": [],
   "source": [
    "import tomsup as ts"
   ]
  },
  {
   "cell_type": "markdown",
   "metadata": {},
   "source": [
    "We first take a look at the current win-stay, lose-switch (WSLS) agent:"
   ]
  },
  {
   "source": [
    "sigmund = ts.WSLS()  # create agent\n",
    "\n",
    "# inspect sigmund\n",
    "print(f\"sigmund is an class of type: {type(sigmund)}\")\n",
    "if isinstance(sigmund, ts.Agent):\n",
    "    print(f\"but sigmund is also of has the parent class ts.Agent\")\n"
   ],
   "cell_type": "code",
   "outputs": [
    {
     "output_type": "stream",
     "name": "stdout",
     "text": [
      "sigmund is an class of type: <class 'tomsup.agent.WSLS'>\nbut sigmund is also of has the parent class ts.Agent\n"
     ]
    }
   ],
   "metadata": {},
   "execution_count": 8
  },
  {
   "cell_type": "markdown",
   "metadata": {},
   "source": [
    "As we can see sigmund is a WSLS agent with the parent class tsAgent. This is beneficial because the WSLS inherits some of the attributes of the parent class, such as the ability to save play history and the ability to reset the agents. To see more of the inherited methods see help(ts.WSLS).\n",
    "\n",
    "Now let's try to create our own agent, one step at a time (if you are confortable with classes in python simply jump to 'The final reversed WSLS):"
   ]
  },
  {
   "source": [
    "import numpy as np\n",
    "\n",
    "# make sure that the parent class is ts.Agent\n",
    "class ReversedWSLS(ts.Agent):\n",
    "    \"\"\"\n",
    "    ReversedWSLS: Win-switch, lose-stay.\n",
    "\n",
    "    This agent is a reversed win-stay, lose-switch agent, which ...\n",
    "    \"\"\"\n",
    "    # add a docstring which explains the agent \n",
    "    pass  # we will later replace this pass with something else\n",
    "\n",
    "\n",
    "freud = ReversedWSLS()\n",
    "print(f\"is freud an Agent? {isinstance(freud, ts.Agent)}\")"
   ],
   "cell_type": "code",
   "outputs": [
    {
     "output_type": "stream",
     "name": "stdout",
     "text": [
      "is freud an Agent? True\n"
     ]
    }
   ],
   "metadata": {},
   "execution_count": 9
  },
  {
   "cell_type": "markdown",
   "metadata": {},
   "source": [
    "Let's add an initalization of the agent. These are things which should be created prior to the agent competing."
   ]
  },
  {
   "cell_type": "code",
   "execution_count": 10,
   "metadata": {},
   "outputs": [
    {
     "output_type": "stream",
     "name": "stdout",
     "text": [
      "what is freud's first move? 1\nwhat is freud's an starting parameters? {'first_move': 1}\nwhat is freud's strategy? ReversedWSLS\n"
     ]
    }
   ],
   "source": [
    "\n",
    "class ReversedWSLS(ts.Agent):\n",
    "    \"\"\"\n",
    "    ReversedWSLS: Win-switch, lose-stay.\n",
    "\n",
    "    This agent is a reversed win-stay, lose-switch agent, which ...\n",
    "    \"\"\"\n",
    "    def __init__(self, first_move, **kwargs): #initalize the agent\n",
    "        self.strategy = \"ReversedWSLS\"  # set the strategy name\n",
    "\n",
    "        # set internal parameters\n",
    "        self.first_move = first_move\n",
    "\n",
    "        # pass additional argument to the ts.Agent class\n",
    "        # (could e.g. include 'save_history = True')\n",
    "        super().__init__(**kwargs)\n",
    "        # save any starting parameters used when the agent is reset\n",
    "        self._start_params = {'first_move': first_move, **kwargs}\n",
    "\n",
    "freud = ReversedWSLS(first_move = 1)\n",
    "print(f\"what is freud's first move? {freud.first_move}\")\n",
    "print(f\"what is freud's an starting parameters? {freud.get_start_params()}\")\n",
    "print(f\"what is freud's strategy? {freud.get_strategy()}\")"
   ]
  },
  {
   "cell_type": "markdown",
   "metadata": {},
   "source": [
    "In the above you sucessfully created freud as an agent and set its first move to be 1. We also see that functions such as the ```get_start_params()``` from the ts.Agent are inherited by the new agent. \n",
    "\n",
    "**Note** that we have set ```**kwargs```, this simply means that the function accepts additional arguments, e.g. ```save_history = True```.\n",
    "These arguments are then passed to the ```super()__init__()```, which initializes the parent class (in this case the ts.Agent class) as well as the ```_start_params``` that are the starting parameters. The starting parameters are used when resetting the agent, which is relevant e.g. when setting up a tournament. \n",
    "\n",
    "All agents naturally need a compete function. Let us add one to the agent"
   ]
  },
  {
   "cell_type": "code",
   "execution_count": 11,
   "metadata": {},
   "outputs": [
    {
     "output_type": "stream",
     "name": "stdout",
     "text": [
      "This is the payoffmatrix for the game (seen from freud's perspective):\n[[-1  1]\n [ 1 -1]]\nwhat is freud's choice the first round? 1\nwhat is freud's choice the second round if his opponent chose 1? 1\n"
     ]
    }
   ],
   "source": [
    "\n",
    "class ReversedWSLS(ts.Agent):\n",
    "    \"\"\"\n",
    "    ReversedWSLS: Win-switch, lose-stay.\n",
    "\n",
    "    This agent is a reversed win-stay, lose-switch agent, which ...\n",
    "    \"\"\"\n",
    "    def __init__(self, first_move, **kwargs): #initalize the agent\n",
    "        self.strategy = \"ReversedWSLS\"  # set the strategy name\n",
    "\n",
    "        # set internal parameters\n",
    "        self.first_move = first_move\n",
    "\n",
    "        # pass additional argument the ts.Agent class\n",
    "        # (could e.g. include 'save_history = True')\n",
    "        super().__init__(**kwargs)\n",
    "        # save any starting parameters used when the agent is reset\n",
    "        self._start_params = {'first_move': first_move, **kwargs}\n",
    "\n",
    "\n",
    "    def compete(self, p_matrix, op_choice = None, agent = 0):\n",
    "        \"\"\"\n",
    "        win-switch, lose-stay strategy, with the first move being set\n",
    "        when the class is initilized (__init__())\n",
    "        \n",
    "        p_matrix is a PayoffMatrix\n",
    "        op_choice is either 1 or 0\n",
    "        agent is either 0 or 1 and indicates the perspective of the\n",
    "        agent in the game (whether it is player 1 or 2)\n",
    "        \"\"\"\n",
    "        # if a choice haven't been made: Choose the predefined first move\n",
    "        if self.choice is None:\n",
    "            # fetch from self\n",
    "            self.choice = self.first_move\n",
    "        else:  # if a choice have been made:\n",
    "            # calculate payoff from last round\n",
    "            payoff = p_matrix.payoff(self.choice, op_choice, agent)\n",
    "             # if the agent won then switch\n",
    "            if payoff == 1:\n",
    "                # save the choice in self (for next round)\n",
    "                # also save any other internal states which you might \n",
    "                # want the agent to keep for next round in self\n",
    "                self.choice = 1-self.choice\n",
    "        # save action and (if any) internal states in history\n",
    "        # note that _add_to_history() is intended for later data\n",
    "        # analysis, and not for use within the agent\n",
    "        self._add_to_history(choice = self.choice)\n",
    "        return self.choice  # return choice which is either 1 or 0\n",
    "    \n",
    "freud = ReversedWSLS(first_move = 1) #create the agent \n",
    "\n",
    "# fetch payoff matrix for the pennygame\n",
    "penny = ts.PayoffMatrix(name = \"penny_competitive\") \n",
    "print(\"This is the payoffmatrix for the game (seen from freud's perspective):\", \n",
    "      penny()[0,:,:], sep = \"\\n\")\n",
    "\n",
    "# have freud compete\n",
    "choice = freud.compete(penny)\n",
    "print(f\"what is freud's choice the first round? {choice}\")\n",
    "choice = freud.compete(penny, op_choice = 1)\n",
    "print(f\"what is freud's choice the second round if his opponent chose 1? {choice}\")"
   ]
  },
  {
   "source": [
    "In the above script we add freud's compete function, which on the first round choses the option specified in his starting parameters, and for future moves it uses the win-switch, lose-stay strategy. It then returns either a 0 or 1 depending on whether is chooses the right or left hand in the penny game. It is important that the agent only returns a 0 or 1 in its compete function, otherwise the agent will not function in the context of the package. \n",
    "\n",
    "**Note** the ```self._add_to_history(choice = self.choice)```, which indicates which variables that should be added to the agent's history, assuming save_history is set to ```True```. In this case we would like to save the agent's own choice.\n",
    "\n",
    "Finally when you have the ```__init__()``` and the ```compete()``` working you can add any additional functions you might want your agent to have. For example will we see that we have added the ```get_first_move()```, which is a helper function to extract the first move of the agent."
   ],
   "cell_type": "markdown",
   "metadata": {}
  },
  {
   "cell_type": "markdown",
   "metadata": {},
   "source": [
    "This gives us the following finalized version of the win-switch, lose-stay agent."
   ]
  },
  {
   "cell_type": "code",
   "execution_count": 12,
   "metadata": {},
   "outputs": [],
   "source": [
    "import numpy as np\n",
    "\n",
    "\n",
    "class ReversedWSLS(ts.Agent):\n",
    "    \"\"\"\n",
    "    ReversedWSLS: Win-switch, lose-stay.\n",
    "\n",
    "    This agent is a reversed win-stay, lose-switch agent, which ...\n",
    "\n",
    "    Examples:\n",
    "    >>> freud = ReversedWSLS(first_move = 1)\n",
    "    >>> freud.compete(op_choice = None, p_matrix = penny)\n",
    "    1\n",
    "    \"\"\"\n",
    "    def __init__(self, first_move, **kwargs): \n",
    "        self.strategy = \"ReversedWSLS\"  \n",
    "\n",
    "        # set internal parameters\n",
    "        self.first_move = first_move\n",
    "\n",
    "        # pass additional argument the ts.Agent class\n",
    "        # (could e.g. include 'save_history = True')\n",
    "        super().__init__(**kwargs)\n",
    "        # save any starting parameters used when the agent is reset\n",
    "        self._start_params = {'first_move': first_move, **kwargs}\n",
    "        \n",
    "    def compete(self, p_matrix, op_choice = None):\n",
    "        # if a choice haven't been made: Choose the redifined first move\n",
    "        if self.choice is None:\n",
    "            self.choice = self.first_move #fetch from self\n",
    "        else:  # if a choice have been made:\n",
    "            # calculate payoff of last round\n",
    "            payoff = p_matrix.payoff(self.choice, op_choice, 0)\n",
    "            if payoff == 1: # if the agent won then switch\n",
    "                # save the choice in self (for next round)\n",
    "                # also save any other internal states which you might \n",
    "                # want the agent to keep for next round in self\n",
    "                self.choice = 1-self.choice\n",
    "        # save action and (if any) internal states in history\n",
    "        # note that _add_to_history() is intended for later data\n",
    "        # analysis, and not for use within the agent\n",
    "        self._add_to_history(choice = self.choice)\n",
    "        return self.choice  # return choice\n",
    "\n",
    "    \n",
    "    # define any additional function you wish the class should have\n",
    "    def get_first_move(self):\n",
    "        return self.first_move"
   ]
  }
 ],
 "metadata": {
  "kernelspec": {
   "name": "python3",
   "display_name": "Python 3.8.5 64-bit ('default')",
   "metadata": {
    "interpreter": {
     "hash": "2f9a32d51028132af0a5a2891eaee3c9fb6058de7facfc79c56439736819a978"
    }
   }
  },
  "language_info": {
   "codemirror_mode": {
    "name": "ipython",
    "version": 3
   },
   "file_extension": ".py",
   "mimetype": "text/x-python",
   "name": "python",
   "nbconvert_exporter": "python",
   "pygments_lexer": "ipython3",
   "version": "3.8.5-final"
  }
 },
 "nbformat": 4,
 "nbformat_minor": 2
}