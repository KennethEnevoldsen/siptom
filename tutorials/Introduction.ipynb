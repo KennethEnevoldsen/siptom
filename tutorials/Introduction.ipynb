{
 "cells": [
  {
   "cell_type": "markdown",
   "metadata": {},
   "source": [
    "# Getting started with tomsup\n",
    "This is the same introduction, which is provided in the markdown on the github page.\n",
    "\n",
    "Tomsup, Theory of Mind Simulation using Python, is a Python Package for Agent Based simulations. It includes 1) a framework for running agent based simulations using 2 by 2 payoffmatrices and most notably 2) an implementation of game theory of mind in a agent based framework following the implementation of [Devaine, et al. (2017)](http://dx.plos.org/10.1371/journal.pcbi.1005833).\n"
   ]
  },
  {
   "cell_type": "code",
   "execution_count": 1,
   "metadata": {},
   "outputs": [],
   "source": [
    "#assuming you are in the github folder change the path - not relevant if tomsup is installed via. pip\n",
    "import os\n",
    "os.chdir(\"..\") # go back one folder\n",
    "\n",
    "import tomsup as ts"
   ]
  },
  {
   "cell_type": "markdown",
   "metadata": {},
   "source": [
    "To get an overview of possible "
   ]
  },
  {
   "cell_type": "code",
   "execution_count": 2,
   "metadata": {},
   "outputs": [
    {
     "data": {
      "text/plain": [
       "{'RB': {'name': 'Random Bias',\n",
       "  'shorthand': 'RB',\n",
       "  'example': 'RB(bias = 0.7)',\n",
       "  'reference': 'Devaine, et al. (2017)',\n",
       "  'strategy': 'Chooses 1 randomly based on a probability or bias'},\n",
       " 'WSLS': {'name': 'Win-stay, lose-switch',\n",
       "  'shorthand': 'WSLS',\n",
       "  'example': 'WSLS()',\n",
       "  'reference': 'Nowak & Sigmund (1993)',\n",
       "  'strategy': 'If it win it chooses the same option again, if it lose it change to another'},\n",
       " 'TFT': {'name': 'Tit-for-Tat',\n",
       "  'shorthand': 'TFT',\n",
       "  'example': 'TFT()',\n",
       "  'reference': 'Shelling (1981)',\n",
       "  'strategy': 'Intended the prisoners dilemma. It starts out cooperating and then simply copies it opponents action.'},\n",
       " 'TOM': {'name': 'Theory of Mind',\n",
       "  'shorthand': 'TOM',\n",
       "  'example': 'TOM(level = 2)',\n",
       "  'reference': 'Devaine, et al. (2017)',\n",
       "  'strategy': 'Recursively estimated its opponent choice probability and model parameters.'}}"
      ]
     },
     "execution_count": 2,
     "metadata": {},
     "output_type": "execute_result"
    }
   ],
   "source": [
    "ts.valid_agents()"
   ]
  },
  {
   "cell_type": "markdown",
   "metadata": {},
   "source": [
    "---\n",
    "### Creating an agent\n",
    "There is two ways to setup an agent, either using the agent class (e.g. RB) or using the create_agent() function. We will start by calling the agent class RB directy, let's call this a. For a whole listt of valid agent use the ts.valid_agents()."
   ]
  },
  {
   "cell_type": "code",
   "execution_count": 9,
   "metadata": {},
   "outputs": [
    {
     "name": "stdout",
     "output_type": "stream",
     "text": [
      "jung is an class of type: <class 'tomsup.agent.RB'>\n",
      "but jung is also of has the parent class ts.Agent\n",
      "jung chose 1 and his probability for choosing 1 was 0.7.\n"
     ]
    }
   ],
   "source": [
    "jung = ts.RB(bias = 0.7, save_history = True) #calling the agent subclass RB\n",
    "\n",
    "# Let's examine the charlie\n",
    "print(f\"jung is an class of type: {type(charlie)}\")\n",
    "if isinstance(jung, ts.Agent):\n",
    "    print(f\"but jung is also of has the parent class ts.Agent\")\n",
    "\n",
    "# let us have charlie make a choice \n",
    "choice = jung.compete()\n",
    "\n",
    "print(f\"jung chose {choice} and his probability for choosing 1 was {jung.get_bias()}.\")"
   ]
  },
  {
   "cell_type": "code",
   "execution_count": 6,
   "metadata": {},
   "outputs": [
    {
     "data": {
      "text/plain": [
       "<tomsup.agent.WSLS at 0x12057b4e0>"
      ]
     },
     "execution_count": 6,
     "metadata": {},
     "output_type": "execute_result"
    }
   ],
   "source": [
    "ts.create_agent(strategy = \"WSLS\")"
   ]
  },
  {
   "cell_type": "markdown",
   "metadata": {},
   "source": [
    "---\n",
    "## Inspecting the agent\n",
    "So let's examine some of the attributes of the agents, which apply to all agents"
   ]
  },
  {
   "cell_type": "code",
   "execution_count": 36,
   "metadata": {},
   "outputs": [
    {
     "name": "stdout",
     "output_type": "stream",
     "text": [
      "This is the starting parameters of charlie:  {'bias': 0.7, 'var': 0, 'save_history': True}\n",
      "This is charlie's last choice:  1\n",
      "Charlie's strategy is:  RB\n"
     ]
    }
   ],
   "source": [
    "# What if I want to know the starting parameters?\n",
    "print(\"This is the starting parameters of charlie: \", charlie.get_start_params())\n",
    "\n",
    "# What was charlie's last choice?\n",
    "print(\"This is charlie's last choice: \", charlie.get_choice())\n",
    "\n",
    "# What is charlie's strategy?\n",
    "print(\"Charlie's strategy is: \", charlie.get_strategy())"
   ]
  },
  {
   "cell_type": "markdown",
   "metadata": {},
   "source": [
    "We specified ```get_history = True``` for charlie, this means we can go back and see all his previous state for the Random bias (RB) this only include the choice. This is by default returned as a dataframe."
   ]
  },
  {
   "cell_type": "code",
   "execution_count": 35,
   "metadata": {},
   "outputs": [
    {
     "data": {
      "text/html": [
       "<div>\n",
       "<style scoped>\n",
       "    .dataframe tbody tr th:only-of-type {\n",
       "        vertical-align: middle;\n",
       "    }\n",
       "\n",
       "    .dataframe tbody tr th {\n",
       "        vertical-align: top;\n",
       "    }\n",
       "\n",
       "    .dataframe thead th {\n",
       "        text-align: right;\n",
       "    }\n",
       "</style>\n",
       "<table border=\"1\" class=\"dataframe\">\n",
       "  <thead>\n",
       "    <tr style=\"text-align: right;\">\n",
       "      <th></th>\n",
       "      <th>choice</th>\n",
       "    </tr>\n",
       "  </thead>\n",
       "  <tbody>\n",
       "    <tr>\n",
       "      <th>0</th>\n",
       "      <td>1</td>\n",
       "    </tr>\n",
       "  </tbody>\n",
       "</table>\n",
       "</div>"
      ],
      "text/plain": [
       "   choice\n",
       "0       1"
      ]
     },
     "execution_count": 35,
     "metadata": {},
     "output_type": "execute_result"
    }
   ],
   "source": [
    "charlie.get_history(format = \"df\")"
   ]
  },
  {
   "cell_type": "code",
   "execution_count": null,
   "metadata": {},
   "outputs": [],
   "source": []
  }
 ],
 "metadata": {
  "kernelspec": {
   "display_name": "Python 3",
   "language": "python",
   "name": "python3"
  },
  "language_info": {
   "codemirror_mode": {
    "name": "ipython",
    "version": 3
   },
   "file_extension": ".py",
   "mimetype": "text/x-python",
   "name": "python",
   "nbconvert_exporter": "python",
   "pygments_lexer": "ipython3",
   "version": "3.7.3"
  }
 },
 "nbformat": 4,
 "nbformat_minor": 2
}
