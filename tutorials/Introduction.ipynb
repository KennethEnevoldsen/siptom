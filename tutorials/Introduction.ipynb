{
 "cells": [
  {
   "cell_type": "markdown",
   "metadata": {},
   "source": [
    "# Getting started with tomsup\n",
    "This is the same introduction, which is provided in the markdown on the github page.\n",
    "\n",
    "Tomsup, Theory of Mind Simulation using Python, is a Python Package for Agent Based simulations. It includes 1) a framework for running agent based simulations using 2 by 2 payoffmatrices and most notably 2) an implementation of game theory of mind in a agent based framework following the implementation of [Devaine, et al. (2017)](http://dx.plos.org/10.1371/journal.pcbi.1005833).\n"
   ]
  },
  {
   "cell_type": "code",
   "execution_count": 5,
   "metadata": {},
   "outputs": [],
   "source": [
    "#assuming you are in the github folder change the path - not relevant if tomsup is installed via. pip\n",
    "import os\n",
    "os.chdir(\"..\") # go back one folder\n",
    "\n",
    "import tomsup as ts"
   ]
  },
  {
   "cell_type": "markdown",
   "metadata": {},
   "source": [
    "To get an overview of possible "
   ]
  },
  {
   "cell_type": "code",
   "execution_count": 3,
   "metadata": {},
   "outputs": [
    {
     "data": {
      "text/plain": [
       "{'RB': {'name': 'Random Bias',\n",
       "  'shorthand': 'RB',\n",
       "  'example': 'RB(bias = 0.7)',\n",
       "  'reference': 'Devaine, et al. (2017)',\n",
       "  'strategy': 'Chooses 1 randomly based on a probability or bias'},\n",
       " 'WSLS': {'name': 'Win-stay, lose-switch',\n",
       "  'shorthand': 'WSLS',\n",
       "  'example': 'WSLS()',\n",
       "  'reference': 'Nowak & Sigmund (1993)',\n",
       "  'strategy': 'If it win it chooses the same option again, if it lose it change to another'},\n",
       " 'TFT': {'name': 'Tit-for-Tat',\n",
       "  'shorthand': 'TFT',\n",
       "  'example': 'TFT()',\n",
       "  'reference': 'Shelling (1981)',\n",
       "  'strategy': 'Intended the prisoners dilemma. It starts out cooperating and then simply copies it opponents action.'},\n",
       " 'TOM': {'name': 'Theory of Mind',\n",
       "  'shorthand': 'TOM',\n",
       "  'example': 'TOM(level = 2)',\n",
       "  'reference': 'Devaine, et al. (2017)',\n",
       "  'strategy': 'Recursively estimated its opponent choice probability and model parameters.'}}"
      ]
     },
     "execution_count": 3,
     "metadata": {},
     "output_type": "execute_result"
    }
   ],
   "source": [
    "ts.valid_agents()"
   ]
  },
  {
   "cell_type": "code",
   "execution_count": null,
   "metadata": {},
   "outputs": [],
   "source": []
  }
 ],
 "metadata": {
  "kernelspec": {
   "display_name": "'Python Interactive'",
   "language": "python",
   "name": "5daaf847-3309-4a0d-82aa-06241d41f665"
  },
  "language_info": {
   "codemirror_mode": {
    "name": "ipython",
    "version": 3
   },
   "file_extension": ".py",
   "mimetype": "text/x-python",
   "name": "python",
   "nbconvert_exporter": "python",
   "pygments_lexer": "ipython3",
   "version": "3.7.0"
  }
 },
 "nbformat": 4,
 "nbformat_minor": 2
}
