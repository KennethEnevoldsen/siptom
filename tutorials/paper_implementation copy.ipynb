{
 "cells": [
  {
   "cell_type": "markdown",
   "metadata": {},
   "source": [
    "# Regarding this Notebook\n",
    "This is a replication of the original analysis performed in the paper by [Waade & Enevoldsen 2020](missing). This replication script will not be updated as it is intended for reproducibility. Any deviations from the paper is marked with bold for transparency.\n",
    "Footnotes and internal documentation references are removed from this example to avoid confusion.\n",
    "\n",
    "---\n"
   ]
  },
  {
   "cell_type": "markdown",
   "metadata": {},
   "source": [
    "# 2.2 Using tomsup\n",
    "One of the advantages of computational models of cognitive processes is that the implications of the model can be worked out by simulating the model’s behavior in a variety of situations. tomsup in particular, allows to test the k-ToM model as it plays a wide set of game-theoretical situations (e.g.  Matching Pennies or Prisoner’s Dilemma), in interaction with a variety of different agents (e.g.  other k-ToM or less sophisticated agents), within different possible settings (e.g. repeated interactions with the same opponent, or round robin tournaments). In order to better understand the setup of the tomsup package, we start with the case of two simple agents interacting, followed by a simple exampleusing k-ToM agents, which will also illustrate how one might implement tomsup in an experiment. Lastly, we will show how to run a simulation using multiple agents as well as how to plot the evolving internal states of a k-ToM agent. In this simple scenario two agents are playing the Matching Pennies game. One agent hides a penny in one hand: let’s say chooses 0 for hiding in the left hand, and 1 in the right. The other agent has to guess where the penny is. If the second agent guesses (chooses the same hand as the first), it wins and the first loses. In other words, the first agent wants to choose the hand that the second will not choose and the second wants to choose the hand that the first chooses. In this example, one of the agents implements the Random Bias strategy (e.g. has a 60 percent probability of choosing right over left), while the other implements a classic Q-learning strategy (a model free reinforcement learning mechanism updating the expected reward of choosing a specific option on a trial by trial basis). The full list of strategies already implemented in tomsup is accessible using the function `valid_agents()`. The user first has to install the tomsup package developed using python 3.6 (Van Rossum & Drake, 2009). The package can be downloaded and installed using pip:\n",
    "\n",
    "```pip3  install  tomsup```"
   ]
  },
  {
   "cell_type": "markdown",
   "metadata": {},
   "source": [
    "**However, in this notebook we will assume the user simply downloaded the git. Feel free to skip the next code chunk if that is not the case.**"
   ]
  },
  {
   "cell_type": "code",
   "execution_count": 1,
   "metadata": {},
   "outputs": [
    {
     "name": "stdout",
     "output_type": "stream",
     "text": [
      "/Users/au561649/Desktop/Github/tomsup/python package/tutorials\n",
      "/Users/au561649/Desktop/Github/tomsup/python package\n"
     ]
    }
   ],
   "source": [
    "#assuming you are in the github folder change the path - not relevant if tomsup is installed via. pip\n",
    "import os\n",
    "print(os.getcwd())\n",
    "os.chdir(\"..\") # go out of the tutorials folder\n",
    "print(os.getcwd())"
   ]
  },
  {
   "cell_type": "markdown",
   "metadata": {},
   "source": [
    "Both approaches will also install the required dependencies. Now tomsup can be imported into Python following the lines;"
   ]
  },
  {
   "cell_type": "code",
   "execution_count": 2,
   "metadata": {},
   "outputs": [],
   "source": [
    "import tomsup as ts"
   ]
  },
  {
   "cell_type": "markdown",
   "metadata": {},
   "source": [
    "We will also set a arbitrary seed for to ensure reproducibility;"
   ]
  },
  {
   "cell_type": "code",
   "execution_count": 3,
   "metadata": {},
   "outputs": [],
   "source": [
    "import random\n",
    "\n",
    "random.seed(1995)  # The year of birth of the first author"
   ]
  },
  {
   "cell_type": "markdown",
   "metadata": {},
   "source": [
    "First we need to set up the Matching Pennies game. As different games are defined by different payoff matrices, we set up the game by creating the appropriate payoff matrix using the ```PayoffMatrix``` class. "
   ]
  },
  {
   "cell_type": "code",
   "execution_count": 4,
   "metadata": {},
   "outputs": [
    {
     "name": "stdout",
     "output_type": "stream",
     "text": [
      "<Class PayoffMatrix, Name = penny_competitive> \n",
      "The payoff matrix of agent 0\n",
      "       |  Choice agent 1\n",
      "       |    |  0 |  1 |\n",
      "       | ------------ |\n",
      "Choice |  0 | -1 |  1 |\n",
      "agent 0|  1 |  1 | -1 |\n",
      " \n",
      "The payoff matrix of agent 1\n",
      "       |  Choice agent 1\n",
      "       |    |  0 |  1 |\n",
      "       | ------------ |\n",
      "Choice |  0 |  1 | -1 |\n",
      "agent 0|  1 | -1 |  1 |\n",
      " \n"
     ]
    }
   ],
   "source": [
    "# initiate the competitive matching pennies game\n",
    "penny = ts.PayoffMatrix(name='penny_competitive')\n",
    "\n",
    "#print the payoff matrix\n",
    "print(penny)"
   ]
  },
  {
   "cell_type": "markdown",
   "metadata": {},
   "source": [
    "\n",
    "The Matching Pennies game is a zero sum game, meaning that for one agent to get a reward, the opponent has to lose. Agents have thus to predict their opponents' behavior, which is ideal for investigating \\gls{tom}. Note that to explore other payoff matrices included in the package, or to learn how to specify a custom payoff matrix, the user can type the `help(ts.PayoffMatrix)` command.\n",
    "\n",
    "Then we create the first of the two competing agents:\n"
   ]
  },
  {
   "cell_type": "code",
   "execution_count": 5,
   "metadata": {},
   "outputs": [
    {
     "name": "stdout",
     "output_type": "stream",
     "text": [
      "jung is a class of type: <class 'tomsup.agent.RB'>\n",
      "but jung is also an instance of the parent class ts.Agent\n",
      "jung chose 0 and his probability for choosing 1 was 0.7.\n"
     ]
    }
   ],
   "source": [
    "# define the random bias agent, which chooses 1 70 percent of the time, and call the agent \"jung\"\n",
    "jung = ts.RB(bias=0.7)\n",
    "\n",
    "# Examine Agent\n",
    "print(f\"jung is a class of type: {type(jung)}\")\n",
    "if isinstance(jung, ts.Agent):  \n",
    "    print(f\"but jung is also an instance of the parent class ts.Agent\")\n",
    "\n",
    "# let us have Jung make a choice \n",
    "choice = jung.compete()\n",
    "\n",
    "print(f\"jung chose {choice} and his probability for choosing 1 was {jung.get_bias()}.\")"
   ]
  },
  {
   "cell_type": "markdown",
   "metadata": {},
   "source": [
    "\n",
    "Note that it is possible to create one or more agents simultaneously using the convenient `create\\_agents()` and passing any starting parameters to it in the form of a dictionary. "
   ]
  },
  {
   "cell_type": "code",
   "execution_count": 6,
   "metadata": {},
   "outputs": [],
   "source": [
    "# create a reinforcement learning agent\n",
    "skinner = ts.create_agents(agents='QL', start_params={'save_history': True}) \n"
   ]
  },
  {
   "cell_type": "markdown",
   "metadata": {},
   "source": [
    "\n",
    "Now that both agents are created, we have them play against each other. \n"
   ]
  },
  {
   "cell_type": "code",
   "execution_count": 7,
   "metadata": {},
   "outputs": [
    {
     "name": "stdout",
     "output_type": "stream",
     "text": [
      "   round  choice_agent0  choice_agent1  payoff_agent0  payoff_agent1\n",
      "0      0              0              1              1             -1\n",
      "1      1              1              1             -1              1\n",
      "2      2              0              1              1             -1\n",
      "3      3              1              1             -1              1\n",
      "4      4              1              1             -1              1\n"
     ]
    }
   ],
   "source": [
    "# have the agents compete for 30 rounds\n",
    "results = ts.compete(jung, skinner, p_matrix=penny, n_rounds=30)\n",
    "\n",
    "# examine results\n",
    "print(results.head()) #inspect the first 5 rows of the dataframe\n"
   ]
  },
  {
   "cell_type": "markdown",
   "metadata": {},
   "source": [
    "** Note: you can remove the print() to get a nicer printout of the dataframe **"
   ]
  },
  {
   "cell_type": "code",
   "execution_count": 8,
   "metadata": {},
   "outputs": [
    {
     "data": {
      "text/html": [
       "<div>\n",
       "<style scoped>\n",
       "    .dataframe tbody tr th:only-of-type {\n",
       "        vertical-align: middle;\n",
       "    }\n",
       "\n",
       "    .dataframe tbody tr th {\n",
       "        vertical-align: top;\n",
       "    }\n",
       "\n",
       "    .dataframe thead th {\n",
       "        text-align: right;\n",
       "    }\n",
       "</style>\n",
       "<table border=\"1\" class=\"dataframe\">\n",
       "  <thead>\n",
       "    <tr style=\"text-align: right;\">\n",
       "      <th></th>\n",
       "      <th>round</th>\n",
       "      <th>choice_agent0</th>\n",
       "      <th>choice_agent1</th>\n",
       "      <th>payoff_agent0</th>\n",
       "      <th>payoff_agent1</th>\n",
       "    </tr>\n",
       "  </thead>\n",
       "  <tbody>\n",
       "    <tr>\n",
       "      <th>0</th>\n",
       "      <td>0</td>\n",
       "      <td>0</td>\n",
       "      <td>1</td>\n",
       "      <td>1</td>\n",
       "      <td>-1</td>\n",
       "    </tr>\n",
       "    <tr>\n",
       "      <th>1</th>\n",
       "      <td>1</td>\n",
       "      <td>1</td>\n",
       "      <td>1</td>\n",
       "      <td>-1</td>\n",
       "      <td>1</td>\n",
       "    </tr>\n",
       "    <tr>\n",
       "      <th>2</th>\n",
       "      <td>2</td>\n",
       "      <td>0</td>\n",
       "      <td>1</td>\n",
       "      <td>1</td>\n",
       "      <td>-1</td>\n",
       "    </tr>\n",
       "    <tr>\n",
       "      <th>3</th>\n",
       "      <td>3</td>\n",
       "      <td>1</td>\n",
       "      <td>1</td>\n",
       "      <td>-1</td>\n",
       "      <td>1</td>\n",
       "    </tr>\n",
       "    <tr>\n",
       "      <th>4</th>\n",
       "      <td>4</td>\n",
       "      <td>1</td>\n",
       "      <td>1</td>\n",
       "      <td>-1</td>\n",
       "      <td>1</td>\n",
       "    </tr>\n",
       "  </tbody>\n",
       "</table>\n",
       "</div>"
      ],
      "text/plain": [
       "   round  choice_agent0  choice_agent1  payoff_agent0  payoff_agent1\n",
       "0      0              0              1              1             -1\n",
       "1      1              1              1             -1              1\n",
       "2      2              0              1              1             -1\n",
       "3      3              1              1             -1              1\n",
       "4      4              1              1             -1              1"
      ]
     },
     "execution_count": 8,
     "metadata": {},
     "output_type": "execute_result"
    }
   ],
   "source": [
    "results.head() #inspect the first 5 rows of the dataframe\n"
   ]
  },
  {
   "cell_type": "markdown",
   "metadata": {},
   "source": [
    "\n",
    "The data frame stores the choice of each agent as well as their resulting payoff. Simply summing the payoff columns would determine the winner.\n",
    "\n",
    "\n",
    "## k-ToM\n",
    "Here we will present some simple examples of the k-ToM agent. For a more in-depth description we recommend checking the expanded introduction on the [Github repository](https://github.com/KennethEnevoldsen/tomsup/blob/master/tutorials/introduction_to_tom.ipynb).\n",
    "\n",
    "We will start of by creating a 0-ToM with default priors and `save_history=True` to examine the workings of it. Notice that setting `save_history` is turned off by default to save on memory which is especially problematic for ToM agents with high sophistication level."
   ]
  },
  {
   "cell_type": "code",
   "execution_count": 9,
   "metadata": {},
   "outputs": [
    {
     "name": "stdout",
     "output_type": "stream",
     "text": [
      "volatility (log scale):         -2\n",
      "b_temp (log odds):              -1\n",
      "bias:                           0\n"
     ]
    }
   ],
   "source": [
    "# Creating a simple 1-ToM with default parameters\n",
    "tom_1 = ts.TOM(level=1, dilution=None, save_history=True)\n",
    "\n",
    "# Extract the parameters\n",
    "tom_1.print_parameters()\n"
   ]
  },
  {
   "cell_type": "markdown",
   "metadata": {},
   "source": [
    "\n",
    "Note that k-ToM agents as default uses agnostic starting beliefs. These can be shown in detail and specified as desired, as shown in **appendix in the paper**.\n",
    "\n",
    "To increase the agent's tendency to choose one we could simply increase its bias. Similarly, if we want the agent to behave in a more more deterministic fashion we can decrease the behavioural temperature. When the parameter values are set, we can play the agent against an opponent using the `.compete()` method. Where `agent` denote the agent in the payoff matrix (0 or 1) and the `op_choice` denote the choice of the opponent during the previous round. "
   ]
  },
  {
   "cell_type": "code",
   "execution_count": 10,
   "metadata": {},
   "outputs": [
    {
     "name": "stdout",
     "output_type": "stream",
     "text": [
      "tom_2 choose: 1\n"
     ]
    }
   ],
   "source": [
    "tom_2 = ts.TOM(level = 2, volatility= -2,  b_temp= -2, # more deterministic\n",
    "               bias = 0, dilution = None, save_history = True)\n",
    "choice = tom_2.compete(p_matrix=penny, agent=0, op_choice=None)\n",
    "print(\"tom_2 choose:\", choice)\n"
   ]
  },
  {
   "cell_type": "markdown",
   "metadata": {},
   "source": [
    "The user is recommended to have the 1-ToM and the 2-ToM agents compete using the previously presented `ts.compete()` function for simplicity. However, to make the process more transparent for the user in the following we create a simple for-loop:\n"
   ]
  },
  {
   "cell_type": "code",
   "execution_count": 11,
   "metadata": {},
   "outputs": [
    {
     "name": "stdout",
     "output_type": "stream",
     "text": [
      "Round 1\n",
      "  1-ToM choose 0\n",
      "  2-ToM choose 0\n",
      "Round 2\n",
      "  1-ToM choose 1\n",
      "  2-ToM choose 1\n",
      "Round 3\n",
      "  1-ToM choose 0\n",
      "  2-ToM choose 0\n"
     ]
    }
   ],
   "source": [
    "tom_2.reset() # reset before start\n",
    "\n",
    "\n",
    "prev_choice_1tom = None\n",
    "prev_choice_2tom = None\n",
    "for trial in range(1, 4):\n",
    "    # note that op_choice is choice on previous turn\n",
    "    # and that agent is the agent you respond to in the payoff matrix\n",
    "    choice_1 = tom_1.compete(p_matrix=penny, agent=0, \n",
    "                            op_choice=prev_choice_1tom)\n",
    "    choice_2 = tom_2.compete(p_matrix=penny, agent=1,\n",
    "                            op_choice=prev_choice_2tom)\n",
    "\n",
    "    # update previous choice\n",
    "    prev_choice_1tom = choice_1\n",
    "    prev_choice_2tom = choice_2\n",
    "\n",
    "    print(f\"Round {trial}\", f\"  1-ToM choose {choice_1}\", f\"  2-ToM choose {choice_2}\", sep=\"\\n\")"
   ]
  },
  {
   "cell_type": "markdown",
   "metadata": {},
   "source": [
    "A for loop like this can be used to implement k-ToM in an experimental setting by replacing the agent with the behavior of a participant. Examples of such implementations (interfacing with PsychoPy are available in the [documentation](https://github.com/KennethEnevoldsen/tomsup/tree/master/tutorials/psychopy_experiment)). \n"
   ]
  },
  {
   "cell_type": "code",
   "execution_count": 12,
   "metadata": {},
   "outputs": [
    {
     "name": "stdout",
     "output_type": "stream",
     "text": [
      "opponent_states\n",
      "|   0-ToM\n",
      "|   |   opponent_states\n",
      "|   |   own_states\n",
      "|   1-ToM\n",
      "|   |   opponent_states\n",
      "|   |   |   0-ToM\n",
      "|   |   |   |   opponent_states\n",
      "|   |   |   |   own_states\n",
      "|   |   own_states\n",
      "|   |   |   p_k (probability):              [1.0]\n",
      "own_states\n",
      "|   p_k (probability):              [0.4828785372717201, 0.5171214627282799]\n",
      "|   p_op (probability):             0.42603436862106425\n"
     ]
    }
   ],
   "source": [
    "tom_2.print_internal(keys=[\"p_k\", \"p_op\"],  # print these two states\n",
    "                     level=[0, 1])             # for the agent simulated opponents 0-ToM and 1-ToM\n"
   ]
  },
  {
   "cell_type": "markdown",
   "metadata": {},
   "source": [
    "\n",
    "For instance, we can note that the estimate of the opponent's sophistication level (\\texttt{p\\_k}) slightly favors a 1-ToM as opposed to a 0-ToM and that the average probability of the opponent choosing one (`p_op`) slightly favors 1 (which was indeed the option the opponent chose). These estimates are quite uncertain due to the few rounds played. More information on how to interpret the internal states of the ToM agent is available in the documentation of the package, e.g. by using the help function `help(tom_2.print_internal)`\n",
    "\n",
    "## Multiple Agents and Visualizing Results\n",
    "The above syntax is useful for small setups. However, the user might want to build larger simulations involving several agents to simulate data for experimental setup or test underlying assumptions. The package provides syntax for quickly iterating over multiple agents, rounds and even simulations. We will here show a quick example along with how to visualize the results and internal states of ToM agents."
   ]
  },
  {
   "cell_type": "code",
   "execution_count": 13,
   "metadata": {},
   "outputs": [
    {
     "name": "stdout",
     "output_type": "stream",
     "text": [
      "\u001b[38;5;4mℹ Currently the pair, ('RB', 'QL'), is competing for 20\n",
      "simulations, each containg 30 rounds.\u001b[0m\n",
      "\u001b[38;5;4mℹ      Running simulation 1 out of 20\u001b[0m\n",
      "\u001b[38;5;4mℹ      Running simulation 2 out of 20\u001b[0m\n",
      "\u001b[38;5;4mℹ      Running simulation 3 out of 20\u001b[0m\n",
      "\u001b[38;5;4mℹ      Running simulation 4 out of 20\u001b[0m\n",
      "\u001b[38;5;4mℹ      Running simulation 5 out of 20\u001b[0m\n",
      "\u001b[38;5;4mℹ      Running simulation 6 out of 20\u001b[0m\n",
      "\u001b[38;5;4mℹ      Running simulation 7 out of 20\u001b[0m\n",
      "\u001b[38;5;4mℹ      Running simulation 8 out of 20\u001b[0m\n",
      "\u001b[38;5;4mℹ      Running simulation 9 out of 20\u001b[0m\n",
      "\u001b[38;5;4mℹ      Running simulation 10 out of 20\u001b[0m\n",
      "\u001b[38;5;4mℹ      Running simulation 11 out of 20\u001b[0m\n",
      "\u001b[38;5;4mℹ      Running simulation 12 out of 20\u001b[0m"
     ]
    },
    {
     "name": "stderr",
     "output_type": "stream",
     "text": [
      "/Users/au561649/Desktop/Github/tomsup/python package/tomsup/agent.py:1393: FutureWarning: Using short name for 'orient' is deprecated. Only the options: ('dict', list, 'series', 'split', 'records', 'index') will be used in a future version. Use one of the above to silence this warning.\n",
      "  history0 = agent_0.history.tail(1).to_dict(\"r\")[0]\n",
      "/Users/au561649/Desktop/Github/tomsup/python package/tomsup/agent.py:1394: FutureWarning: Using short name for 'orient' is deprecated. Only the options: ('dict', list, 'series', 'split', 'records', 'index') will be used in a future version. Use one of the above to silence this warning.\n",
      "  history1 = agent_1.history.tail(1).to_dict(\"r\")[0]\n"
     ]
    },
    {
     "name": "stdout",
     "output_type": "stream",
     "text": [
      "\n",
      "\u001b[38;5;4mℹ      Running simulation 13 out of 20\u001b[0m\n",
      "\u001b[38;5;4mℹ      Running simulation 14 out of 20\u001b[0m\n",
      "\u001b[38;5;4mℹ      Running simulation 15 out of 20\u001b[0m\n",
      "\u001b[38;5;4mℹ      Running simulation 16 out of 20\u001b[0m\n",
      "\u001b[38;5;4mℹ      Running simulation 17 out of 20\u001b[0m\n",
      "\u001b[38;5;4mℹ      Running simulation 18 out of 20\u001b[0m\n",
      "\u001b[38;5;4mℹ      Running simulation 19 out of 20\u001b[0m\n",
      "\u001b[38;5;4mℹ      Running simulation 20 out of 20\u001b[0m\n",
      "\u001b[38;5;4mℹ Currently the pair, ('RB', 'WSLS'), is competing for 20\n",
      "simulations, each containg 30 rounds.\u001b[0m\n",
      "\u001b[38;5;4mℹ      Running simulation 1 out of 20\u001b[0m\n",
      "\u001b[38;5;4mℹ      Running simulation 2 out of 20\u001b[0m\n",
      "\u001b[38;5;4mℹ      Running simulation 3 out of 20\u001b[0m\n",
      "\u001b[38;5;4mℹ      Running simulation 4 out of 20\u001b[0m\n",
      "\u001b[38;5;4mℹ      Running simulation 5 out of 20\u001b[0m\n",
      "\u001b[38;5;4mℹ      Running simulation 6 out of 20\u001b[0m\n",
      "\u001b[38;5;4mℹ      Running simulation 7 out of 20\u001b[0m\n",
      "\u001b[38;5;4mℹ      Running simulation 8 out of 20\u001b[0m\n",
      "\u001b[38;5;4mℹ      Running simulation 9 out of 20\u001b[0m\n",
      "\u001b[38;5;4mℹ      Running simulation 10 out of 20\u001b[0m\n",
      "\u001b[38;5;4mℹ      Running simulation 11 out of 20\u001b[0m\n",
      "\u001b[38;5;4mℹ      Running simulation 12 out of 20\u001b[0m\n",
      "\u001b[38;5;4mℹ      Running simulation 13 out of 20\u001b[0m\n",
      "\u001b[38;5;4mℹ      Running simulation 14 out of 20\u001b[0m\n",
      "\u001b[38;5;4mℹ      Running simulation 15 out of 20\u001b[0m\n",
      "\u001b[38;5;4mℹ      Running simulation 16 out of 20\u001b[0m\n",
      "\u001b[38;5;4mℹ      Running simulation 17 out of 20\u001b[0m\n",
      "\u001b[38;5;4mℹ      Running simulation 18 out of 20\u001b[0m\n",
      "\u001b[38;5;4mℹ      Running simulation 19 out of 20\u001b[0m\n",
      "\u001b[38;5;4mℹ      Running simulation 20 out of 20\u001b[0m\n",
      "\u001b[38;5;4mℹ Currently the pair, ('RB', '1-TOM'), is competing for 20\n",
      "simulations, each containg 30 rounds.\u001b[0m\n",
      "\u001b[38;5;4mℹ      Running simulation 1 out of 20\u001b[0m\n",
      "\u001b[38;5;4mℹ      Running simulation 2 out of 20\u001b[0m\n",
      "\u001b[38;5;4mℹ      Running simulation 3 out of 20\u001b[0m\n",
      "\u001b[38;5;4mℹ      Running simulation 4 out of 20\u001b[0m\n",
      "\u001b[38;5;4mℹ      Running simulation 5 out of 20\u001b[0m\n",
      "\u001b[38;5;4mℹ      Running simulation 6 out of 20\u001b[0m\n",
      "\u001b[38;5;4mℹ      Running simulation 7 out of 20\u001b[0m\n",
      "\u001b[38;5;4mℹ      Running simulation 8 out of 20\u001b[0m\n",
      "\u001b[38;5;4mℹ      Running simulation 9 out of 20\u001b[0m\n",
      "\u001b[38;5;4mℹ      Running simulation 10 out of 20\u001b[0m\n",
      "\u001b[38;5;4mℹ      Running simulation 11 out of 20\u001b[0m\n",
      "\u001b[38;5;4mℹ      Running simulation 12 out of 20\u001b[0m\n",
      "\u001b[38;5;4mℹ      Running simulation 13 out of 20\u001b[0m\n",
      "\u001b[38;5;4mℹ      Running simulation 14 out of 20\u001b[0m\n",
      "\u001b[38;5;4mℹ      Running simulation 15 out of 20\u001b[0m\n",
      "\u001b[38;5;4mℹ      Running simulation 16 out of 20\u001b[0m\n",
      "\u001b[38;5;4mℹ      Running simulation 17 out of 20\u001b[0m\n",
      "\u001b[38;5;4mℹ      Running simulation 18 out of 20\u001b[0m\n",
      "\u001b[38;5;4mℹ      Running simulation 19 out of 20\u001b[0m\n",
      "\u001b[38;5;4mℹ      Running simulation 20 out of 20\u001b[0m\n",
      "\u001b[38;5;4mℹ Currently the pair, ('RB', '2-TOM'), is competing for 20\n",
      "simulations, each containg 30 rounds.\u001b[0m\n",
      "\u001b[38;5;4mℹ      Running simulation 1 out of 20\u001b[0m\n",
      "\u001b[38;5;4mℹ      Running simulation 2 out of 20\u001b[0m\n",
      "\u001b[38;5;4mℹ      Running simulation 3 out of 20\u001b[0m\n",
      "\u001b[38;5;4mℹ      Running simulation 4 out of 20\u001b[0m\n",
      "\u001b[38;5;4mℹ      Running simulation 5 out of 20\u001b[0m\n",
      "\u001b[38;5;4mℹ      Running simulation 6 out of 20\u001b[0m\n",
      "\u001b[38;5;4mℹ      Running simulation 7 out of 20\u001b[0m\n",
      "\u001b[38;5;4mℹ      Running simulation 8 out of 20\u001b[0m\n",
      "\u001b[38;5;4mℹ      Running simulation 9 out of 20\u001b[0m\n",
      "\u001b[38;5;4mℹ      Running simulation 10 out of 20\u001b[0m\n",
      "\u001b[38;5;4mℹ      Running simulation 11 out of 20\u001b[0m\n",
      "\u001b[38;5;4mℹ      Running simulation 12 out of 20\u001b[0m\n",
      "\u001b[38;5;4mℹ      Running simulation 13 out of 20\u001b[0m\n",
      "\u001b[38;5;4mℹ      Running simulation 14 out of 20\u001b[0m\n",
      "\u001b[38;5;4mℹ      Running simulation 15 out of 20\u001b[0m\n",
      "\u001b[38;5;4mℹ      Running simulation 16 out of 20\u001b[0m\n",
      "\u001b[38;5;4mℹ      Running simulation 17 out of 20\u001b[0m\n",
      "\u001b[38;5;4mℹ      Running simulation 18 out of 20\u001b[0m\n",
      "\u001b[38;5;4mℹ      Running simulation 19 out of 20\u001b[0m\n",
      "\u001b[38;5;4mℹ      Running simulation 20 out of 20\u001b[0m\n",
      "\u001b[38;5;4mℹ Currently the pair, ('QL', 'WSLS'), is competing for 20\n",
      "simulations, each containg 30 rounds.\u001b[0m\n",
      "\u001b[38;5;4mℹ      Running simulation 1 out of 20\u001b[0m\n",
      "\u001b[38;5;4mℹ      Running simulation 2 out of 20\u001b[0m\n",
      "\u001b[38;5;4mℹ      Running simulation 3 out of 20\u001b[0m\n",
      "\u001b[38;5;4mℹ      Running simulation 4 out of 20\u001b[0m\n",
      "\u001b[38;5;4mℹ      Running simulation 5 out of 20\u001b[0m\n",
      "\u001b[38;5;4mℹ      Running simulation 6 out of 20\u001b[0m\n",
      "\u001b[38;5;4mℹ      Running simulation 7 out of 20\u001b[0m\n",
      "\u001b[38;5;4mℹ      Running simulation 8 out of 20\u001b[0m\n",
      "\u001b[38;5;4mℹ      Running simulation 9 out of 20\u001b[0m\n",
      "\u001b[38;5;4mℹ      Running simulation 10 out of 20\u001b[0m\n",
      "\u001b[38;5;4mℹ      Running simulation 11 out of 20\u001b[0m\n",
      "\u001b[38;5;4mℹ      Running simulation 12 out of 20\u001b[0m\n",
      "\u001b[38;5;4mℹ      Running simulation 13 out of 20\u001b[0m\n",
      "\u001b[38;5;4mℹ      Running simulation 14 out of 20\u001b[0m\n",
      "\u001b[38;5;4mℹ      Running simulation 15 out of 20\u001b[0m\n",
      "\u001b[38;5;4mℹ      Running simulation 16 out of 20\u001b[0m\n",
      "\u001b[38;5;4mℹ      Running simulation 17 out of 20\u001b[0m\n",
      "\u001b[38;5;4mℹ      Running simulation 18 out of 20\u001b[0m\n",
      "\u001b[38;5;4mℹ      Running simulation 19 out of 20\u001b[0m\n",
      "\u001b[38;5;4mℹ      Running simulation 20 out of 20\u001b[0m\n",
      "\u001b[38;5;4mℹ Currently the pair, ('QL', '1-TOM'), is competing for 20\n",
      "simulations, each containg 30 rounds.\u001b[0m\n",
      "\u001b[38;5;4mℹ      Running simulation 1 out of 20\u001b[0m\n",
      "\u001b[38;5;4mℹ      Running simulation 2 out of 20\u001b[0m\n",
      "\u001b[38;5;4mℹ      Running simulation 3 out of 20\u001b[0m\n",
      "\u001b[38;5;4mℹ      Running simulation 4 out of 20\u001b[0m\n",
      "\u001b[38;5;4mℹ      Running simulation 5 out of 20\u001b[0m\n",
      "\u001b[38;5;4mℹ      Running simulation 6 out of 20\u001b[0m\n",
      "\u001b[38;5;4mℹ      Running simulation 7 out of 20\u001b[0m\n",
      "\u001b[38;5;4mℹ      Running simulation 8 out of 20\u001b[0m\n",
      "\u001b[38;5;4mℹ      Running simulation 9 out of 20\u001b[0m\n",
      "\u001b[38;5;4mℹ      Running simulation 10 out of 20\u001b[0m\n",
      "\u001b[38;5;4mℹ      Running simulation 11 out of 20\u001b[0m\n",
      "\u001b[38;5;4mℹ      Running simulation 12 out of 20\u001b[0m\n",
      "\u001b[38;5;4mℹ      Running simulation 13 out of 20\u001b[0m\n",
      "\u001b[38;5;4mℹ      Running simulation 14 out of 20\u001b[0m\n",
      "\u001b[38;5;4mℹ      Running simulation 15 out of 20\u001b[0m\n",
      "\u001b[38;5;4mℹ      Running simulation 16 out of 20\u001b[0m\n",
      "\u001b[38;5;4mℹ      Running simulation 17 out of 20\u001b[0m\n",
      "\u001b[38;5;4mℹ      Running simulation 18 out of 20\u001b[0m\n",
      "\u001b[38;5;4mℹ      Running simulation 19 out of 20\u001b[0m\n",
      "\u001b[38;5;4mℹ      Running simulation 20 out of 20\u001b[0m\n",
      "\u001b[38;5;4mℹ Currently the pair, ('QL', '2-TOM'), is competing for 20\n",
      "simulations, each containg 30 rounds.\u001b[0m\n",
      "\u001b[38;5;4mℹ      Running simulation 1 out of 20\u001b[0m\n",
      "\u001b[38;5;4mℹ      Running simulation 2 out of 20\u001b[0m\n",
      "\u001b[38;5;4mℹ      Running simulation 3 out of 20\u001b[0m\n",
      "\u001b[38;5;4mℹ      Running simulation 4 out of 20\u001b[0m\n",
      "\u001b[38;5;4mℹ      Running simulation 5 out of 20\u001b[0m\n",
      "\u001b[38;5;4mℹ      Running simulation 6 out of 20\u001b[0m\n",
      "\u001b[38;5;4mℹ      Running simulation 7 out of 20\u001b[0m\n",
      "\u001b[38;5;4mℹ      Running simulation 8 out of 20\u001b[0m\n",
      "\u001b[38;5;4mℹ      Running simulation 9 out of 20\u001b[0m\n",
      "\u001b[38;5;4mℹ      Running simulation 10 out of 20\u001b[0m\n",
      "\u001b[38;5;4mℹ      Running simulation 11 out of 20\u001b[0m\n",
      "\u001b[38;5;4mℹ      Running simulation 12 out of 20\u001b[0m\n",
      "\u001b[38;5;4mℹ      Running simulation 13 out of 20\u001b[0m\n",
      "\u001b[38;5;4mℹ      Running simulation 14 out of 20\u001b[0m\n",
      "\u001b[38;5;4mℹ      Running simulation 15 out of 20\u001b[0m\n",
      "\u001b[38;5;4mℹ      Running simulation 16 out of 20\u001b[0m\n",
      "\u001b[38;5;4mℹ      Running simulation 17 out of 20\u001b[0m\n",
      "\u001b[38;5;4mℹ      Running simulation 18 out of 20\u001b[0m\n",
      "\u001b[38;5;4mℹ      Running simulation 19 out of 20\u001b[0m\n",
      "\u001b[38;5;4mℹ      Running simulation 20 out of 20\u001b[0m\n",
      "\u001b[38;5;4mℹ Currently the pair, ('WSLS', '1-TOM'), is competing for 20\n",
      "simulations, each containg 30 rounds.\u001b[0m\n",
      "\u001b[38;5;4mℹ      Running simulation 1 out of 20\u001b[0m\n",
      "\u001b[38;5;4mℹ      Running simulation 2 out of 20\u001b[0m\n",
      "\u001b[38;5;4mℹ      Running simulation 3 out of 20\u001b[0m\n",
      "\u001b[38;5;4mℹ      Running simulation 4 out of 20\u001b[0m\n",
      "\u001b[38;5;4mℹ      Running simulation 5 out of 20\u001b[0m\n",
      "\u001b[38;5;4mℹ      Running simulation 6 out of 20\u001b[0m\n",
      "\u001b[38;5;4mℹ      Running simulation 7 out of 20\u001b[0m\n",
      "\u001b[38;5;4mℹ      Running simulation 8 out of 20\u001b[0m\n",
      "\u001b[38;5;4mℹ      Running simulation 9 out of 20\u001b[0m\n",
      "\u001b[38;5;4mℹ      Running simulation 10 out of 20\u001b[0m\n",
      "\u001b[38;5;4mℹ      Running simulation 11 out of 20\u001b[0m\n",
      "\u001b[38;5;4mℹ      Running simulation 12 out of 20\u001b[0m\n",
      "\u001b[38;5;4mℹ      Running simulation 13 out of 20\u001b[0m\n",
      "\u001b[38;5;4mℹ      Running simulation 14 out of 20\u001b[0m\n",
      "\u001b[38;5;4mℹ      Running simulation 15 out of 20\u001b[0m\n",
      "\u001b[38;5;4mℹ      Running simulation 16 out of 20\u001b[0m\n",
      "\u001b[38;5;4mℹ      Running simulation 17 out of 20\u001b[0m\n",
      "\u001b[38;5;4mℹ      Running simulation 18 out of 20\u001b[0m\n",
      "\u001b[38;5;4mℹ      Running simulation 19 out of 20\u001b[0m\n",
      "\u001b[38;5;4mℹ      Running simulation 20 out of 20\u001b[0m\n",
      "\u001b[38;5;4mℹ Currently the pair, ('WSLS', '2-TOM'), is competing for 20\n",
      "simulations, each containg 30 rounds.\u001b[0m\n",
      "\u001b[38;5;4mℹ      Running simulation 1 out of 20\u001b[0m\n",
      "\u001b[38;5;4mℹ      Running simulation 2 out of 20\u001b[0m\n",
      "\u001b[38;5;4mℹ      Running simulation 3 out of 20\u001b[0m\n",
      "\u001b[38;5;4mℹ      Running simulation 4 out of 20\u001b[0m\n",
      "\u001b[38;5;4mℹ      Running simulation 5 out of 20\u001b[0m\n",
      "\u001b[38;5;4mℹ      Running simulation 6 out of 20\u001b[0m\n",
      "\u001b[38;5;4mℹ      Running simulation 7 out of 20\u001b[0m\n",
      "\u001b[38;5;4mℹ      Running simulation 8 out of 20\u001b[0m\n",
      "\u001b[38;5;4mℹ      Running simulation 9 out of 20\u001b[0m\n",
      "\u001b[38;5;4mℹ      Running simulation 10 out of 20\u001b[0m\n",
      "\u001b[38;5;4mℹ      Running simulation 11 out of 20\u001b[0m\n",
      "\u001b[38;5;4mℹ      Running simulation 12 out of 20\u001b[0m\n",
      "\u001b[38;5;4mℹ      Running simulation 13 out of 20\u001b[0m\n",
      "\u001b[38;5;4mℹ      Running simulation 14 out of 20\u001b[0m\n",
      "\u001b[38;5;4mℹ      Running simulation 15 out of 20\u001b[0m\n",
      "\u001b[38;5;4mℹ      Running simulation 16 out of 20\u001b[0m\n",
      "\u001b[38;5;4mℹ      Running simulation 17 out of 20\u001b[0m\n",
      "\u001b[38;5;4mℹ      Running simulation 18 out of 20\u001b[0m\n",
      "\u001b[38;5;4mℹ      Running simulation 19 out of 20\u001b[0m\n",
      "\u001b[38;5;4mℹ      Running simulation 20 out of 20\u001b[0m\n",
      "\u001b[38;5;4mℹ Currently the pair, ('1-TOM', '2-TOM'), is competing for 20\n",
      "simulations, each containg 30 rounds.\u001b[0m\n",
      "\u001b[38;5;4mℹ      Running simulation 1 out of 20\u001b[0m\n",
      "\u001b[38;5;4mℹ      Running simulation 2 out of 20\u001b[0m\n",
      "\u001b[38;5;4mℹ      Running simulation 3 out of 20\u001b[0m\n",
      "\u001b[38;5;4mℹ      Running simulation 4 out of 20\u001b[0m\n",
      "\u001b[38;5;4mℹ      Running simulation 5 out of 20\u001b[0m\n",
      "\u001b[38;5;4mℹ      Running simulation 6 out of 20\u001b[0m\n",
      "\u001b[38;5;4mℹ      Running simulation 7 out of 20\u001b[0m\n",
      "\u001b[38;5;4mℹ      Running simulation 8 out of 20\u001b[0m\n",
      "\u001b[38;5;4mℹ      Running simulation 9 out of 20\u001b[0m\n",
      "\u001b[38;5;4mℹ      Running simulation 10 out of 20\u001b[0m\n",
      "\u001b[38;5;4mℹ      Running simulation 11 out of 20\u001b[0m\n",
      "\u001b[38;5;4mℹ      Running simulation 12 out of 20\u001b[0m\n",
      "\u001b[38;5;4mℹ      Running simulation 13 out of 20\u001b[0m\n",
      "\u001b[38;5;4mℹ      Running simulation 14 out of 20\u001b[0m\n",
      "\u001b[38;5;4mℹ      Running simulation 15 out of 20\u001b[0m\n",
      "\u001b[38;5;4mℹ      Running simulation 16 out of 20\u001b[0m\n",
      "\u001b[38;5;4mℹ      Running simulation 17 out of 20\u001b[0m\n",
      "\u001b[38;5;4mℹ      Running simulation 18 out of 20\u001b[0m\n",
      "\u001b[38;5;4mℹ      Running simulation 19 out of 20\u001b[0m\n",
      "\u001b[38;5;4mℹ      Running simulation 20 out of 20\u001b[0m\n",
      "\u001b[38;5;2m✔ Simulation complete\u001b[0m\n"
     ]
    }
   ],
   "source": [
    "# Create a list of agents\n",
    "agents = ['RB', 'QL', 'WSLS', '1-TOM', '2-TOM']\n",
    "# And set their starting parameters. An empty dictionary denotes default values\n",
    "start_params = [{'bias': 0.7}, {'learning_rate': 0.5}, {}, {}, {}] \n",
    "\n",
    "group = ts.create_agents(agents, start_params) # create a group of agents\n",
    " \n",
    "# Specify the environment\n",
    "# round_robin e.g. each agent will play against all other agents\n",
    "group.set_env(env='round_robin') \n",
    "\n",
    "# Finally, we make the group compete 20 simulations of 30 rounds\n",
    "results = group.compete(p_matrix=penny, n_rounds=30,\n",
    "                        n_sim=20, save_history=True)"
   ]
  },
  {
   "cell_type": "markdown",
   "metadata": {},
   "source": [
    "Following the simulation, a data frame can be extracted as before, with additional columns reporting simulation number, competing agent pair (`agent0` and `agent1`) and if `save_history=True` it will also add two columns denoting the internal states of each agent, e.g. estimates and expectations at each trial.\n"
   ]
  },
  {
   "cell_type": "code",
   "execution_count": 14,
   "metadata": {},
   "outputs": [
    {
     "name": "stdout",
     "output_type": "stream",
     "text": [
      "   n_sim  round  choice_agent0  choice_agent1  payoff_agent0  payoff_agent1  \\\n",
      "0      0      0              1              1             -1              1   \n",
      "\n",
      "  history_agent0                                     history_agent1 agent0  \\\n",
      "0  {'choice': 1}  {'choice': 1, 'expected_value0': 0.5, 'expecte...     RB   \n",
      "\n",
      "  agent1  \n",
      "0     QL  \n"
     ]
    }
   ],
   "source": [
    "res = group.get_results()\n",
    "print(res.head(1)) # print the first row\n"
   ]
  },
  {
   "cell_type": "markdown",
   "metadata": {},
   "source": [
    "**Again, removing the print statement gives you a more readable output**"
   ]
  },
  {
   "cell_type": "code",
   "execution_count": 15,
   "metadata": {},
   "outputs": [
    {
     "data": {
      "text/html": [
       "<div>\n",
       "<style scoped>\n",
       "    .dataframe tbody tr th:only-of-type {\n",
       "        vertical-align: middle;\n",
       "    }\n",
       "\n",
       "    .dataframe tbody tr th {\n",
       "        vertical-align: top;\n",
       "    }\n",
       "\n",
       "    .dataframe thead th {\n",
       "        text-align: right;\n",
       "    }\n",
       "</style>\n",
       "<table border=\"1\" class=\"dataframe\">\n",
       "  <thead>\n",
       "    <tr style=\"text-align: right;\">\n",
       "      <th></th>\n",
       "      <th>n_sim</th>\n",
       "      <th>round</th>\n",
       "      <th>choice_agent0</th>\n",
       "      <th>choice_agent1</th>\n",
       "      <th>payoff_agent0</th>\n",
       "      <th>payoff_agent1</th>\n",
       "      <th>history_agent0</th>\n",
       "      <th>history_agent1</th>\n",
       "      <th>agent0</th>\n",
       "      <th>agent1</th>\n",
       "    </tr>\n",
       "  </thead>\n",
       "  <tbody>\n",
       "    <tr>\n",
       "      <th>0</th>\n",
       "      <td>0</td>\n",
       "      <td>0</td>\n",
       "      <td>1</td>\n",
       "      <td>1</td>\n",
       "      <td>-1</td>\n",
       "      <td>1</td>\n",
       "      <td>{'choice': 1}</td>\n",
       "      <td>{'choice': 1, 'expected_value0': 0.5, 'expecte...</td>\n",
       "      <td>RB</td>\n",
       "      <td>QL</td>\n",
       "    </tr>\n",
       "  </tbody>\n",
       "</table>\n",
       "</div>"
      ],
      "text/plain": [
       "   n_sim  round  choice_agent0  choice_agent1  payoff_agent0  payoff_agent1  \\\n",
       "0      0      0              1              1             -1              1   \n",
       "\n",
       "  history_agent0                                     history_agent1 agent0  \\\n",
       "0  {'choice': 1}  {'choice': 1, 'expected_value0': 0.5, 'expecte...     RB   \n",
       "\n",
       "  agent1  \n",
       "0     QL  "
      ]
     },
     "execution_count": 15,
     "metadata": {},
     "output_type": "execute_result"
    }
   ],
   "source": [
    "res.head(1)"
   ]
  },
  {
   "cell_type": "markdown",
   "metadata": {},
   "source": [
    "** to allow other author to examine these results we have also saved the results to a new lines delimited .ndjson**"
   ]
  },
  {
   "cell_type": "code",
   "execution_count": 16,
   "metadata": {},
   "outputs": [],
   "source": [
    "res.to_json(\"tutorials/paper.ndjson\", orient=\"records\", lines=True)"
   ]
  },
  {
   "cell_type": "markdown",
   "metadata": {},
   "source": [
    "The package also provides convenient functions for plotting the agent's choices and performance.\n"
   ]
  },
  {
   "cell_type": "markdown",
   "metadata": {},
   "source": [
    "** for nicer plots we will increase the figure size using the following code. This is excluded from the paper for simplicity**"
   ]
  },
  {
   "cell_type": "code",
   "execution_count": 17,
   "metadata": {},
   "outputs": [],
   "source": [
    "import matplotlib.pyplot as plt\n",
    "\n",
    "# Set figure size\n",
    "plt.rcParams[\"figure.figsize\"] = [10, 10]"
   ]
  },
  {
   "cell_type": "code",
   "execution_count": 18,
   "metadata": {},
   "outputs": [
    {
     "name": "stderr",
     "output_type": "stream",
     "text": [
      "/Users/au561649/.virtualenvs/tomsup/lib/python3.8/site-packages/numpy/core/fromnumeric.py:3438: FutureWarning: Dropping of nuisance columns in DataFrame reductions (with 'numeric_only=None') is deprecated; in a future version this will raise TypeError.  Select only valid columns before calling the reduction.\n",
      "  return mean(axis=axis, dtype=dtype, out=out, **kwargs)\n"
     ]
    },
    {
     "data": {
      "image/png": "[encoded data removed]",
      "text/plain": [
       "<Figure size 720x720 with 2 Axes>"
      ]
     },
     "metadata": {
      "needs_background": "light"
     },
     "output_type": "display_data"
    },
    {
     "data": {
      "text/plain": [
       "<Figure size 360x360 with 0 Axes>"
      ]
     },
     "metadata": {},
     "output_type": "display_data"
    },
    {
     "data": {
      "image/png": "[encoded data removed]",
      "text/plain": [
       "<Figure size 360x360 with 1 Axes>"
      ]
     },
     "metadata": {
      "needs_background": "light"
     },
     "output_type": "display_data"
    },
    {
     "data": {
      "text/plain": [
       "<Figure size 360x360 with 0 Axes>"
      ]
     },
     "metadata": {},
     "output_type": "display_data"
    },
    {
     "data": {
      "image/png": "[encoded data removed]",
      "text/plain": [
       "<Figure size 360x360 with 1 Axes>"
      ]
     },
     "metadata": {
      "needs_background": "light"
     },
     "output_type": "display_data"
    }
   ],
   "source": [
    "# plot a heatmap of the rewards for all agent in the tournament\n",
    "p1 = group.plot_heatmap(cmap=\"RdBu_r\")\n",
    "\n",
    "plt.rcParams[\"figure.figsize\"] = [5, 5]\n",
    "# plot the choices of the RB agent when competing against the Q-learning agent\n",
    "p2 = group.plot_choice(agent0=\"RB\", agent1=\"QL\", agent=0, plot_individual_sim=False)\n",
    "\n",
    "# plot the score of the RB agent when competing against the Q-learning agent\n",
    "p3 = group.plot_score(agent0=\"RB\", agent1=\"QL\", agent=0)\n"
   ]
  },
  {
   "cell_type": "markdown",
   "metadata": {},
   "source": [
    "Besides these general plots the package also contains a series of shortcuts for plotting $k$-ToM's internal states such as its estimate of its opponent's sophistication level, in which it is seen that the 2-ToM correctly estimates the opponents estimates as having a sophistication level of 1 on average.\n"
   ]
  },
  {
   "cell_type": "code",
   "execution_count": null,
   "metadata": {},
   "outputs": [],
   "source": [
    "def score(\n",
    "    df: pd.DataFrame, show: bool = True\n",
    "):\n",
    "\n",
    "    plt.clf()\n",
    "    df = df.loc[(df[\"agent0\"] == agent0) & (df[\"agent1\"] == agent1)].copy()\n",
    "\n",
    "    cum_payoff = \"cum_payoff_a\" + str(agent)\n",
    "    df[cum_payoff] = df.groupby(by=[\"n_sim\"])[\"payoff_agent0\"].cumsum()\n",
    "\n",
    "    fig, ax = plt.subplots(1, 1)\n",
    "\n",
    "    if \"n_sim\" in df:\n",
    "        # plot each line for each sim\n",
    "        for sim in range(df[\"n_sim\"].max() + 1):\n",
    "            tmp = df[[\"round\", cum_payoff]].loc[df[\"n_sim\"] == sim]\n",
    "            ax.plot(tmp[\"round\"], tmp[cum_payoff], color=\"grey\", linewidth=1, alpha=0.2)\n",
    "\n",
    "    # plot mean\n",
    "    # set label text\n",
    "    label_text = \"mean score across simulations\" if \"n_sim\" in df else \"score\"\n",
    "\n",
    "    tmp = df.groupby(by=[\"round\"])[cum_payoff].mean()\n",
    "    ax.plot(\n",
    "        range(len(tmp)), tmp.values, color=\"lightblue\", linewidth=4, label=label_text\n",
    "    )\n",
    "    ax.legend()\n",
    "    ax.set_xlabel(\"Round\")\n",
    "    ax.set_ylabel(\"Score\")\n",
    "    if show is True:\n",
    "        plt.show()\n"
   ]
  }
 ],
 "metadata": {
  "kernelspec": {
   "display_name": "Python 3",
   "language": "python",
   "name": "python3"
  },
  "language_info": {
   "codemirror_mode": {
    "name": "ipython",
    "version": 3
   },
   "file_extension": ".py",
   "mimetype": "text/x-python",
   "name": "python",
   "nbconvert_exporter": "python",
   "pygments_lexer": "ipython3",
   "version": "3.8.12"
  },
  "orig_nbformat": 2
 },
 "nbformat": 4,
 "nbformat_minor": 2
}
