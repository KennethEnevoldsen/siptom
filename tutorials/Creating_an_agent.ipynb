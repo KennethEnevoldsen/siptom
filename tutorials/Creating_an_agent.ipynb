{
 "cells": [
  {
   "cell_type": "markdown",
   "metadata": {},
   "source": [
    "# Creating an agent\n",
    "This notebook goes through how to create a custom agent type within the tomsup framework. In this tutorial, we will make a reverse "win-stay, lose-switch" agent, (a "win-switch, lose-stay" agent).\n",
    "\n",
    "This guide assumes a basic understanding of classes in python. If you don't have this or need to recap, we recommend this [chapter](http://hplgit.github.io/primer.html/doc/pub/class/._class-readable002.html) of the free ebook *A Byte of Python*\n",
    "\n",
    "First we import the package:"
   ]
  },
  {
   "cell_type": "code",
   "execution_count": 17,
   "metadata": {},
   "outputs": [],
   "source": [
    "# If you are in the github folder, you need to change the path. This is not relevant if tomsup is installed through pip\n",
    "import os\n",
    "os.chdir(\"..\") # Go up one folder\n",
    "\n",
    "import tomsup as ts"
   ]
  },
  {
   "cell_type": "markdown",
   "metadata": {},
   "source": [
    "First let's take a look at the current "win-stay, lose-switch" (WSLS) agent:"
   ]
  },
  {
   "cell_type": "code",
   "execution_count": 18,
   "metadata": {},
   "outputs": [
    {
     "name": "stdout",
     "output_type": "stream",
     "text": [
      "sigmund is an class of type: <class 'tomsup.agent.WSLS'>\n",
      "but sigmund is also of has the parent class ts.Agent\n"
     ]
    }
   ],
   "source": [
    "sigmund = ts.WSLS() # Create agent\n",
    "\n",
    "# Inspect sigmund\n",
    "print(f\"sigmund is an class of type: {type(sigmund)}\") # f stands for format\n",
    "if isinstance(sigmund, ts.Agent):\n",
    "    print(f\"but sigmund is also of has the parent class ts.Agent\")\n"
   ]
  },
  {
   "cell_type": "markdown",
   "metadata": {},
   "source": [
    "As we can see, sigmund is a WSLS agent with the parent class tsAgent. This has some benefits as WSLS inherits some attributes from the parent class, such as the ability to save game history and the ability to reset the agent. For more information on the inherited inherited methods, see help(ts.WSLS).\n",
    "\n",
    "## Creating a new class\n",
    "Now we will create our own agent one bit at a time. If you are comfortable with classes, simply jump to 'The final reversed WSLS':"
   ]
  },
  {
   "cell_type": "code",
   "execution_count": 19,
   "metadata": {},
   "outputs": [
    {
     "name": "stdout",
     "output_type": "stream",
     "text": [
      "is freud an Agent? True\n"
     ]
    }
   ],
   "source": [
    "import numpy as np\n",
    "\n",
    "\n",
    "class ReversedWSLS(ts.Agent): # Make sure that the parent class is ts.Agent\n",
    "    \"\"\"\n",
    "    ReversedWSLS: Win-switch, lose-stay.\n",
    "\n",
    "    This agent is a reversed win-stay, lose-switch agent, which ...\n",
    "    \"\"\"\n",
    "    # Add a docstring which explains the agent \n",
    "    pass # We will later replace this pass with something else\n",
    "\n",
    "\n",
    "freud = ReversedWSLS()\n",
    "print(f\"is freud an Agent? {isinstance(freud, ts.Agent)}\")"
   ]
  },
  {
   "cell_type": "markdown",
   "metadata": {},
   "source": [
    "### Add initialization\n",
    "Let's add an initalization of the agent. These are things which should be set up prior to the agent competing."
   ]
  },
  {
   "cell_type": "code",
   "execution_count": 20,
   "metadata": {},
   "outputs": [
    {
     "name": "stdout",
     "output_type": "stream",
     "text": [
      "what is freud's first move? 1\n",
      "what is freud's an starting parameters? {'first_move': 1}\n",
      "what is freud's strategy? ReversedWSLS\n"
     ]
    }
   ],
   "source": [
    "\n",
    "class ReversedWSLS(ts.Agent):\n",
    "    \"\"\"\n",
    "    ReversedWSLS: Win-switch, lose-stay.\n",
    "\n",
    "    This agent is a reversed win-stay, lose-switch agent, which ...\n",
    "    \"\"\"\n",
    "    def __init__(self, first_move, **kwargs): # Function for initalizing the agent\n",
    "        self.strategy = \"ReversedWSLS\"  # Set the strategy name\n",
    "\n",
    "        # Set internal parameters\n",
    "        self.first_move = first_move\n",
    "\n",
    "        super().__init__(**kwargs)  # Pass additional argument the ts.Agent class (for example 'save_history = True')\n",
    "        self._start_params = {'first_move': first_move, **kwargs}  # Save any starting parameters. The kinds of parameters depend on the agent. These are used when the agent is reset\n",
    "\n",
    "freud = ReversedWSLS(first_move = 1)\n",
    "print(f\"what is freud's first move? {freud.first_move}\")\n",
    "print(f\"what is freud's an starting parameters? {freud.get_start_params()}\")\n",
    "print(f\"what is freud's strategy? {freud.get_strategy()}\")"
   ]
  },
  {
   "cell_type": "markdown",
   "metadata": {},
   "source": [
    "In the above you sucessfully created freud as an agent, and set his starting move to be 1 by the ```first_move``` parameter. We also see that functions such as the ```get_start_params()``` from the ts.Agent class is inherited to the new agent. \n",
    "\n",
    "\n",
    "**Note** that we have set ```**kwargs```. This simply means that the function accepts additional arguments, e.g. ```save_history = True```.\n",
    "These arguments are passed to the ```super()__init__()```, which initializes the parent class (i.e. the ts.Agent class) as well as the ```_start_params```. The saved starting parameter are used when resetting the agent, which is relevant e.g. when setting up a tournament settings. \n",
    "\n",
    "#### Add a compete function\n",
    "All tomsup agents need a compete function to play. Let us add one to our custom agent"
   ]
  },
  {
   "cell_type": "code",
   "execution_count": 21,
   "metadata": {},
   "outputs": [
    {
     "name": "stdout",
     "output_type": "stream",
     "text": [
      "This is the payoffmatrix for the game (seen from freud's perspective):\n",
      "[[-1  1]\n",
      " [ 1 -1]]\n",
      "what is freud's choice the first round? 1\n",
      "what is freud's choice the second round if his opponent chose 1? 1\n"
     ]
    }
   ],
   "source": [
    "\n",
    "class ReversedWSLS(ts.Agent):\n",
    "    \"\"\"\n",
    "    ReversedWSLS: Win-switch, lose-stay.\n",
    "\n",
    "    This agent is a reversed win-stay, lose-switch agent, which ...\n",
    "    \"\"\"\n",
    "    def __init__(self, first_move, **kwargs): # Function for initalizing the agent\n",
    "        self.strategy = \"ReversedWSLS\"  # Set the strategy name\n",
    "\n",
    "        # Set internal parameters\n",
    "        self.first_move = first_move\n",
    "\n",
    "        super().__init__(**kwargs)  # Pass additional argument the ts.Agent class (for example 'save_history = True')\n",
    "        self._start_params = {'first_move': first_move, **kwargs}  # Save any starting parameters. The kinds of parameters depend on the agent. These are used when the agent is reset\n",
    "\n",
    "\n",
    "    def compete(self, p_matrix, op_choice = None, agent = 0):\n",
    "        \"\"\"\n",
    "        win-switch, lose-stay strategy. The first move is set when the class is initilized (__init__())\n",
    "        \n",
    "        p_matrix is a PayoffMatrix\n",
    "        op_choice is either 1 or 0\n",
    "        agent is either 0 or 1 and indicates the perspective of the agent in the game (whether it is player 1 og 2, respectively)\n",
    "        \"\"\"\n",
    "        if self.choice is None: # If no earlier choice was made: Choose the predefined first move\n",
    "            self.choice = self.first_move #fetch from self\n",
    "        else:  # If an earlier choice was made:\n",
    "            payoff = p_matrix.payoff(self.choice, op_choice, agent)  # Calculate payoff from last round\n",
    "            if payoff == 1: # If the agent won then switch\n",
    "                self.choice = 1-self.choice  # Save the choice in self (for next round).\n",
    "                                             # Also save any other internal states which you might \n",
    "                                             # want the agent to keep for next round in self\n",
    "        self._add_to_history(choice = self.choice) # Aave action and (if any) internal states in history.\n",
    "                                                   # Note that _add_to_history() stores in order to output \n",
    "                                                   # the change in choices or states, not for use within the agent\n",
    "        return self.choice  # Return the agent's choice, which is either 1 or 0\n",
    "    \n",
    "freud = ReversedWSLS(first_move = 1) # Create the agent \n",
    "\n",
    "# Fetch payoff matrix for the competitive penny game\n",
    "penny = ts.PayoffMatrix(name = \"penny_competitive\") \n",
    "print(\"This is the payoffmatrix for the game (seen from freud's perspective):\",  penny()[0,:,:], sep = \"\\n\")\n",
    "\n",
    "# Have freud compete\n",
    "choice = freud.compete(penny)\n",
    "print(f\"what is freud's choice the first round? {choice}\")\n",
    "choice = freud.compete(penny, op_choice = 1)\n",
    "print(f\"what is freud's choice the second round if his opponent chose 1? {choice}\")"
   ]
  },
  {
   "cell_type": "markdown",
   "metadata": {},
   "source": [
    "In the script above we add freud's compete function. For the first round, its choses a preset move, and for future moves it uses the "win-switch, lose-stay" strategy. It then returns either a 0 or 1 as its choice, corresponding to either right or left hand in the penny game. For the agent to function in the context of the package, it is important that the compete function only returns either 0 or 1. \n",
    "\n",
    "**Note** the ```self._add_to_history(choice = self.choice)```. This indicates which variables should be saved in the agent history when ```save_history``` is set to ```True```. In this case only choices are saved, but many models have changing variables that are interesting to store.\n",
    "\n",
    "When the ```__init__()``` and the ```compete()``` functions are working, you can add any additional function you might want your agent to have. As an example, we have added the ```get_first_move()```, which is a helper function to extract the first move of the agent."
   ]
  },
  {
   "cell_type": "markdown",
   "metadata": {},
   "source": [
    "## The final reversed WSLS\n",
    "The following is the finalized version of the "win-switch, lose-stay" agent."
   ]
  },
  {
   "cell_type": "code",
   "execution_count": 22,
   "metadata": {},
   "outputs": [],
   "source": [
    "import numpy as np\n",
    "\n",
    "\n",
    "class ReversedWSLS(ts.Agent):\n",
    "    \"\"\"\n",
    "    ReversedWSLS: Win-switch, lose-stay.\n",
    "\n",
    "    This agent is a reversed win-stay, lose-switch agent, which ...\n",
    "\n",
    "    Examples:\n",
    "    >>> waade = ReversedWSLS(first_move = 1)\n",
    "    >>> waade.compete(op_choice = None, p_matrix = penny)\n",
    "    1\n",
    "    \"\"\"\n",
    "    def __init__(self, first_move, **kwargs): \n",
    "        self.strategy = \"ReversedWSLS\"  \n",
    "\n",
    "        # set internal parameters\n",
    "        self.first_move = first_move\n",
    "\n",
    "        super().__init__(**kwargs)  # Pass additional argument the ts.Agent class (for example 'save_history = True')\n",
    "        self._start_params = {'first_move': first_move, **kwargs}  # Save any starting parameters. The kinds of parameters depend on the agent. These are used when the agent is reset\n",
    "\n",
    "        \n",
    "    def compete(self, p_matrix, op_choice = None):\n",
    "        if self.choice is None: # if a choice haven't been made: Choose the redifined first move\n",
    "            self.choice = self.first_move #fetch from self\n",
    "        else:  # if a choice have been made:\n",
    "            payoff = p_matrix.payoff(self.choice, op_choice, 0)  # calculate payoff of last round\n",
    "            if payoff == 1: # if the agent won then switch\n",
    "                self.choice = 1-self.choice  # save the choice in self (for next round)\n",
    "                                             # also save any other internal states which you might \n",
    "                                             # want the agent to keep for next round in self\n",
    "        self._add_to_history(choice = self.choice) # save action and (if any) internal states in history\n",
    "                                                   # note that _add_to_history() is not intented for \n",
    "                                                   # later use within the agent\n",
    "        return self.choice  # return choice\n",
    "\n",
    "    \n",
    "    # define any additional function you wish the class should have\n",
    "    def get_first_move(self):\n",
    "        return self.first_move"
   ]
  },
  {
   "cell_type": "markdown",
   "metadata": {},
   "source": [
    "## Test your knowlegde\n",
    "\n",
    "1) Create an agent called Random, which simply choose randomly\n",
    "\n",
    "2) Check that it is an agent and that the compete function work\n",
    "\n",
    "3) Have the agent compete against another agent within the package using the ```ts.compete()```. Which agent wins?"
   ]
  },
  {
   "cell_type": "code",
   "execution_count": null,
   "metadata": {},
   "outputs": [],
   "source": []
  }
 ],
 "metadata": {
  "kernelspec": {
   "display_name": "'Python Interactive'",
   "language": "python",
   "name": "5daaf847-3309-4a0d-82aa-06241d41f665"
  },
  "language_info": {
   "codemirror_mode": {
    "name": "ipython",
    "version": 3
   },
   "file_extension": ".py",
   "mimetype": "text/x-python",
   "name": "python",
   "nbconvert_exporter": "python",
   "pygments_lexer": "ipython3",
   "version": "3.7.0"
  }
 },
 "nbformat": 4,
 "nbformat_minor": 2
}