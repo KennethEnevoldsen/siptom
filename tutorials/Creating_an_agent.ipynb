{
 "cells": [
  {
   "cell_type": "markdown",
   "metadata": {},
   "source": [
    "# Creating an agent\n",
    "This notebook will go through the how to create a new agent within the tomsup framework. In this tutorial we will be making an reversed win-stay, lose-switch agent, e.g. an win-switch, lose-stay agent.\n",
    "\n",
    "This guides assumes a basic understanding of classes in python, if you don't know these or need to recap we suggest examing this [chapter](http://hplgit.github.io/primer.html/doc/pub/class/._class-readable002.html) in the free ebook a byte of python\n",
    "\n",
    "Let us first import the package:"
   ]
  },
  {
   "cell_type": "code",
   "execution_count": 1,
   "metadata": {},
   "outputs": [],
   "source": [
    "#assuming you are in the github folder change the path - not relevant if tomsup is installed via. pip\n",
    "import os\n",
    "os.chdir(\"..\") # go back one folder\n",
    "\n",
    "import tomsup as ts"
   ]
  },
  {
   "cell_type": "markdown",
   "metadata": {},
   "source": [
    "Now lets first take a look at the current win-stay, lose-switch (WSLS) agent:"
   ]
  },
  {
   "cell_type": "code",
   "execution_count": 2,
   "metadata": {},
   "outputs": [
    {
     "output_type": "stream",
     "name": "stdout",
     "text": [
      "sigmund is an class of type: <class 'tomsup.agent.WSLS'>\nbut sigmund is also of has the parent class ts.Agent\n"
     ]
    }
   ],
   "source": [
    "sigmund = ts.WSLS() #create agent\n",
    "\n",
    "# inspect sigmund\n",
    "print(f\"sigmund is an class of type: {type(sigmund)}\") #f is for format\n",
    "if isinstance(sigmund, ts.Agent):\n",
    "    print(f\"but sigmund is also of has the parent class ts.Agent\")\n"
   ]
  },
  {
   "cell_type": "markdown",
   "metadata": {},
   "source": [
    "As we can see sigmund is a WSLS agent with the parent class tsAgent. This us some benefits as WSLS inherit some of the attributes of the parent class, such as the ability to save play history and the ability to reset the agents. To see more of the inherited methods see help(ts.WSLS).\n",
    "\n",
    "## Creating a new class\n",
    "Now let's try to create our own agent one bit at a time (if you are confortable with classes simply jump to 'The final reversed WSLS):"
   ]
  },
  {
   "cell_type": "code",
   "execution_count": 3,
   "metadata": {},
   "outputs": [
    {
     "output_type": "stream",
     "name": "stdout",
     "text": [
      "is freud an Agent? True\n"
     ]
    }
   ],
   "source": [
    "import numpy as np\n",
    "\n",
    "\n",
    "class ReversedWSLS(ts.Agent): # make sure that the parent class is ts.Agent\n",
    "    \"\"\"\n",
    "    ReversedWSLS: Win-switch, lose-stay.\n",
    "\n",
    "    This agent is a reversed win-stay, lose-switch agent, which ...\n",
    "    \"\"\"\n",
    "    # add a docstring which explains the agent \n",
    "    pass # we will later replace this pass with something else\n",
    "\n",
    "\n",
    "freud = ReversedWSLS()\n",
    "print(f\"is freud an Agent? {isinstance(freud, ts.Agent)}\")"
   ]
  },
  {
   "cell_type": "markdown",
   "metadata": {},
   "source": [
    "### Add initialization\n",
    "Let's add an initalization of the agent. These are things which should be created prior to the agent competing."
   ]
  },
  {
   "cell_type": "code",
   "execution_count": 4,
   "metadata": {},
   "outputs": [
    {
     "output_type": "stream",
     "name": "stdout",
     "text": [
      "what is freud's first move? 1\nwhat is freud's an starting parameters? {'first_move': 1}\nwhat is freud's strategy? ReversedWSLS\n"
     ]
    }
   ],
   "source": [
    "\n",
    "class ReversedWSLS(ts.Agent):\n",
    "    \"\"\"\n",
    "    ReversedWSLS: Win-switch, lose-stay.\n",
    "\n",
    "    This agent is a reversed win-stay, lose-switch agent, which ...\n",
    "    \"\"\"\n",
    "    def __init__(self, first_move, **kwargs): #initalize the agent\n",
    "        self.strategy = \"ReversedWSLS\"  # set the strategy name\n",
    "\n",
    "        # set internal parameters\n",
    "        self.first_move = first_move\n",
    "\n",
    "        super().__init__(**kwargs)  # pass additional argument the ts.Agent class (could e.g. include 'save_history = True')\n",
    "        self._start_params = {'first_move': first_move, **kwargs}  # save any starting parameters used when the agent is reset\n",
    "\n",
    "freud = ReversedWSLS(first_move = 1)\n",
    "print(f\"what is freud's first move? {freud.first_move}\")\n",
    "print(f\"what is freud's an starting parameters? {freud.get_start_params()}\")\n",
    "print(f\"what is freud's strategy? {freud.get_strategy()}\")"
   ]
  },
  {
   "cell_type": "markdown",
   "metadata": {},
   "source": [
    "In the above you sucessfully created an freud as an agent and that his first move is 1. We also see that functions such as the ```get_start_params()``` from the ts.Agent is inherited by the new agent. \n",
    "\n",
    "\n",
    "**Note** that we have set ```**kwargs```, this simply means that function accept additional arguments, e.g. ```save_history = True```.\n",
    "These arguments are then passed to the ```super()__init__()```, which initialize the parent class (in this case the ts.Agent class) as well as the ```_start_params``` which is the starting parameters. The starting parameter are used when resetting the agent, which is relevant e.g. when setting up a tournament settings. \n",
    "\n",
    "#### Add a compete function\n",
    "All agent naturally need a compete function. Let us add one to the agent"
   ]
  },
  {
   "cell_type": "code",
   "execution_count": 21,
   "metadata": {},
   "outputs": [
    {
     "name": "stdout",
     "output_type": "stream",
     "text": [
      "This is the payoffmatrix for the game (seen from freud's perspective):\n",
      "[[-1  1]\n",
      " [ 1 -1]]\n",
      "what is freud's choice the first round? 1\n",
      "what is freud's choice the second round if his opponent chose 1? 1\n"
     ]
    }
   ],
   "source": [
    "\n",
    "class ReversedWSLS(ts.Agent):\n",
    "    \"\"\"\n",
    "    ReversedWSLS: Win-switch, lose-stay.\n",
    "\n",
    "    This agent is a reversed win-stay, lose-switch agent, which ...\n",
    "    \"\"\"\n",
    "    def __init__(self, first_move, **kwargs): #initalize the agent\n",
    "        self.strategy = \"ReversedWSLS\"  # set the strategy name\n",
    "\n",
    "        # set internal parameters\n",
    "        self.first_move = first_move\n",
    "\n",
    "        super().__init__(**kwargs)  # pass additional argument the ts.Agent class (could e.g. include 'save_history = True')\n",
    "        self._start_params = {'first_move': first_move, **kwargs}  # save any starting parameters used when the agent is reset\n",
    "\n",
    "\n",
    "    def compete(self, p_matrix, op_choice = None, agent = 0):\n",
    "        \"\"\"\n",
    "        win-switch, lose-stay strategy, with the first move being set when the class is initilized (__init__())\n",
    "        \n",
    "        p_matrix is a PayoffMatrix\n",
    "        op_choice is either 1 or 0\n",
    "        agent is either 0 or 1 and indicated the perpective of the agent in the game (whether it is player 1 og 2)\n",
    "        \"\"\"\n",
    "        if self.choice is None: # if a choice haven't been made: Choose the redifined first move\n",
    "            self.choice = self.first_move #fetch from self\n",
    "        else:  # if a choice have been made:\n",
    "            payoff = p_matrix.payoff(self.choice, op_choice, agent)  # calculate payoff of last round\n",
    "            if payoff == 1: # if the agent won then switch\n",
    "                self.choice = 1-self.choice  # save the choice in self (for next round)\n",
    "                                             # also save any other internal states which you might \n",
    "                                             # want the agent to keep for next round in self\n",
    "        self._add_to_history(choice = self.choice) # save action and (if any) internal states in history\n",
    "                                                   # note that _add_to_history() is not intented for \n",
    "                                                   # later use within the agent\n",
    "        return self.choice  # return choice which is either 1 or 0\n",
    "    \n",
    "freud = ReversedWSLS(first_move = 1) #create the agent \n",
    "\n",
    "# fetch payoff matrix for the pennygame\n",
    "penny = ts.PayoffMatrix(name = \"penny_competitive\") \n",
    "print(\"This is the payoffmatrix for the game (seen from freud's perspective):\",  penny()[0,:,:], sep = \"\\n\")\n",
    "\n",
    "# have freud compete\n",
    "choice = freud.compete(penny)\n",
    "print(f\"what is freud's choice the first round? {choice}\")\n",
    "choice = freud.compete(penny, op_choice = 1)\n",
    "print(f\"what is freud's choice the second round if his opponent chose 1? {choice}\")"
   ]
  },
  {
   "cell_type": "markdown",
   "metadata": {},
   "source": [
    "In the above script we add freud's compete function, which for the first round choses his own move and for future moves it uses the win-switch, lose-stay strategy. It then return either a 0 or 1 depending on whether is choses e.g. right or left hand in the penny game. It is important that the agent does only return 0 or 1 in its compete function otherwise the agent will not function in the context of the package. \n",
    "\n",
    "**Note** the ```self._add_to_history(choice = self.choice)```, which indicated which variables I would like to add to the agent history, assuming save history is set to ```True```. In this case we would like to.\n",
    "\n",
    "Finally when you have the ```__init__()``` and the ```compete()``` working you can add any additional function you might want your agent to have, for example you will se that we have added the ```get_first_move()```, which is a helper function to extract the first move of the agent."
   ]
  },
  {
   "cell_type": "markdown",
   "metadata": {},
   "source": [
    "## The final reversed WSLS\n",
    "The following is the finalized version of the win-switch, lose-stay agent."
   ]
  },
  {
   "cell_type": "code",
   "execution_count": 5,
   "metadata": {},
   "outputs": [],
   "source": [
    "import numpy as np\n",
    "\n",
    "\n",
    "class ReversedWSLS(ts.Agent):\n",
    "    \"\"\"\n",
    "    ReversedWSLS: Win-switch, lose-stay.\n",
    "\n",
    "    This agent is a reversed win-stay, lose-switch agent, which ...\n",
    "\n",
    "    Examples:\n",
    "    >>> waade = ReversedWSLS(first_move = 1)\n",
    "    >>> waade.compete(op_choice = None, p_matrix = penny)\n",
    "    1\n",
    "    \"\"\"\n",
    "    def __init__(self, first_move, **kwargs): \n",
    "        self.strategy = \"ReversedWSLS\"  \n",
    "\n",
    "        # set internal parameters\n",
    "        self.first_move = first_move\n",
    "\n",
    "        super().__init__(**kwargs)  # pass additional argument the ts.Agent class (could e.g. include 'save_history = True')\n",
    "        self._start_params = {'first_move': first_move, **kwargs}  # save any starting parameters used when the agent is reset\n",
    "\n",
    "        \n",
    "    def compete(self, p_matrix, op_choice = None):\n",
    "        if self.choice is None: # if a choice haven't been made: Choose the redifined first move\n",
    "            self.choice = self.first_move #fetch from self\n",
    "        else:  # if a choice have been made:\n",
    "            payoff = p_matrix.payoff(self.choice, op_choice, 0)  # calculate payoff of last round\n",
    "            if payoff == 1: # if the agent won then switch\n",
    "                self.choice = 1-self.choice  # save the choice in self (for next round)\n",
    "                                             # also save any other internal states which you might \n",
    "                                             # want the agent to keep for next round in self\n",
    "        self._add_to_history(choice = self.choice) # save action and (if any) internal states in history\n",
    "                                                   # note that _add_to_history() is not intented for \n",
    "                                                   # later use within the agent\n",
    "        return self.choice  # return choice\n",
    "\n",
    "    \n",
    "    # define any additional function you wish the class should have\n",
    "    def get_first_move(self):\n",
    "        return self.first_move"
   ]
  },
  {
   "cell_type": "markdown",
   "metadata": {},
   "source": [
    "## Test your knowlegde\n",
    "\n",
    "1) Create an agent called Random, which simply choose randomly\n",
    "\n",
    "2) Check that it is an agent and that the compete function work\n",
    "\n",
    "3) Have the agent compete against another agent within the package using the ```ts.compete()```, which one win?"
   ]
  },
  {
   "cell_type": "markdown",
   "metadata": {},
   "source": [
    "# FAQ\n",
    "\n",
    "- I have developed an agent which I would like to include in your package\n",
    "Sounds lovely, we would love to include the agent. Feel free to make a pull request on Github or contact us at kennethcenevoldsen@gmail.com."
   ]
  },
  {
   "cell_type": "code",
   "execution_count": null,
   "metadata": {},
   "outputs": [],
   "source": []
  }
 ],
 "metadata": {
  "kernelspec": {
   "display_name": "Python 3",
   "language": "python",
   "name": "python3"
  },
  "language_info": {
   "codemirror_mode": {
    "name": "ipython",
    "version": 3
   },
   "file_extension": ".py",
   "mimetype": "text/x-python",
   "name": "python",
   "nbconvert_exporter": "python",
   "pygments_lexer": "ipython3",
   "version": "3.8.5-final"
  }
 },
 "nbformat": 4,
 "nbformat_minor": 2
}